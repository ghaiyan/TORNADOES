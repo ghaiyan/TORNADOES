{
 "cells": [
  {
   "cell_type": "code",
   "execution_count": 1,
   "metadata": {},
   "outputs": [],
   "source": [
    "from sklearn.cluster import OPTICS\n",
    "from sklearn import metrics\n",
    "import numpy as np\n",
    "from numpy import inf\n",
    "import matplotlib.pyplot as plt\n",
    "import seaborn as sns\n",
    "import math\n",
    "import hdbscan\n",
    "\n",
    "def optics(hic,min_samples=5,metric='minkowski',cluster_method='xi',min_cluster_size=5,xi=0.05):\n",
    "    db = OPTICS(\n",
    "    min_samples=min_samples, \n",
    "    max_eps=inf, \n",
    "    metric=metric,\n",
    "    cluster_method = cluster_method,\n",
    "    min_cluster_size=min_cluster_size\n",
    "    ).fit(hic)\n",
    "    #db = hdbscan.HDBSCAN(metric='euclidean').fit(hic)\n",
    "\n",
    "    label = db.labels_\n",
    "    # clusters = db.cluster_hierarchy_\n",
    "    print(label)\n",
    "    n_clusters_ = len(set(label)) - (1 if -1 in label else 0)\n",
    "    n_noise_ = list(label).count(-1)\n",
    "    print(\"Estimated number of clusters: %d\" % n_clusters_)\n",
    "    print(\"Estimated number of noise points: %d\" % n_noise_)\n",
    "    x = []\n",
    "    X = []\n",
    "    for i in range(len(label)):\n",
    "        if label[i] != -1:\n",
    "            X.append(hic[i])\n",
    "            x.append(label[i])\n",
    "    #print(\"Silhouette Coefficient: %0.3f\" % metrics.silhouette_score(X, x))\n",
    "    return label\n",
    "\n",
    "def boundaryPlot(labels):\n",
    "    n = len(labels)\n",
    "    boundary = np.zeros(n)\n",
    "    i = 0\n",
    "    label = 0\n",
    "    start = 0\n",
    "    while i < n:\n",
    "        if labels[i] != -1:\n",
    "            if labels[i] == label:\n",
    "                boundary[i] = start\n",
    "            else:\n",
    "                start = i\n",
    "                label = labels[i]\n",
    "                boundary[i] = start\n",
    "        else:\n",
    "            boundary[i] = i\n",
    "            label = -1\n",
    "        i = i + 1\n",
    "    return boundary"
   ]
  },
  {
   "cell_type": "code",
   "execution_count": 5,
   "metadata": {},
   "outputs": [
    {
     "name": "stdout",
     "output_type": "stream",
     "text": [
      "[-1 -1 -1 ... -1 -1 -1]\n",
      "Estimated number of clusters: 25\n",
      "Estimated number of noise points: 614\n"
     ]
    }
   ],
   "source": [
    "#IMR90 cell line\n",
    "for ii in range(19,20):\n",
    "    filename = \"hic/IMR90/50kb/intra_KR/chr{}_50k_intra_KR_matrix.txt\".format(ii)#n*n matrix\n",
    "    hic=np.loadtxt(filename)\n",
    "    hic = np.nan_to_num(hic)\n",
    "    labels = optics(hic,4,'cosine','xi',15)\n",
    "    tads = boundaryPlot(labels)\n",
    "    outpath = \"output/IMR90/caspian_subcompart/caspian_chr{}\".format(ii)\n",
    "    i = 0\n",
    "    res = 50000\n",
    "    with open(outpath, \"w\") as out:\n",
    "        while i < len(tads):\n",
    "            if tads[i] < i:\n",
    "                start = i - 1\n",
    "                while i < len(tads) and tads[i] == start:\n",
    "                    end = i\n",
    "                    i = i + 1\n",
    "                if end-start>=14:\n",
    "                    startbin = start * res\n",
    "                    endbin = end * res\n",
    "                    out.write(\"\\t\".join((str(start), str(end), str(end), str(endbin))) + \"\\n\")\n",
    "                # else:\n",
    "                #     start=start-1\n",
    "            i = i + 1\n",
    "        out.close()"
   ]
  },
  {
   "cell_type": "code",
   "execution_count": 4,
   "metadata": {},
   "outputs": [
    {
     "name": "stdout",
     "output_type": "stream",
     "text": [
      "[ 0 -1 -1 ... -1 -1 -1]\n",
      "Estimated number of clusters: 26\n",
      "Estimated number of noise points: 510\n"
     ]
    }
   ],
   "source": [
    "#GM12878 cell line\n",
    "import numpy as np\n",
    "hic=np.loadtxt(\"hic/GM12878/50kb/intra_KR/chr19_50k_intra_KR_matrix.txt\") #n*n matrix\n",
    "# for min_sample in np.arange(3,15,1):\n",
    "labels = optics(hic,5,'manhattan','xi',16)\n",
    "tads = boundaryPlot(labels)\n",
    "\n",
    "outpath = \"output/GM12878/caspian_subcompart/caspian_chr19.txt\"\n",
    "i = 0\n",
    "res = 50000\n",
    "with open(outpath, \"w\") as out:\n",
    "    while i < len(tads):\n",
    "        if tads[i] < i:\n",
    "            start = i - 1\n",
    "            while i < len(tads) and tads[i] == start:\n",
    "                end = i\n",
    "                i = i + 1\n",
    "            if end-start>=10:\n",
    "                startbin = start * res\n",
    "                endbin = end * res\n",
    "                out.write(\"\\t\".join((str(start), str(startbin), str(end), str(endbin))) + \"\\n\")\n",
    "            # else:\n",
    "            #     start=start-1\n",
    "        i = i + 1\n",
    "    out.close()\n",
    "\n",
    "# plt.figure(figsize=(5,5))\n",
    "# sns.heatmap(data=hic[350:800,350:800], robust=True, cmap=\"Reds\")\n",
    "# plt.plot([round(tad-350) for tad in tads][350:800],linewidth=2.5)\n",
    "# plt.xlabel(\"\")\n",
    "# plt.ylabel(\"\")\n",
    "# #plt.title('eps={}, min_samples={}'.format(eps, min_samples))\n",
    "\n",
    "# plt.show()"
   ]
  }
 ],
 "metadata": {
  "kernelspec": {
   "display_name": "Python 3.8.8 ('base': conda)",
   "language": "python",
   "name": "python3"
  },
  "language_info": {
   "codemirror_mode": {
    "name": "ipython",
    "version": 3
   },
   "file_extension": ".py",
   "mimetype": "text/x-python",
   "name": "python",
   "nbconvert_exporter": "python",
   "pygments_lexer": "ipython3",
   "version": "3.6.12"
  },
  "orig_nbformat": 4,
  "vscode": {
   "interpreter": {
    "hash": "df6c1b9e7f444e82fc3c2ecdf9b72840cb94399d74213e5650c360300c2a75cd"
   }
  }
 },
 "nbformat": 4,
 "nbformat_minor": 2
}
