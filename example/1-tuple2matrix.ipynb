{
 "cells": [
  {
   "cell_type": "code",
   "execution_count": 1,
   "metadata": {},
   "outputs": [],
   "source": [
    "import os\n",
    "import sys\n",
    "import argparse\n",
    "import math\n",
    "import numpy as np\n",
    "\"\"\"\n",
    "convert tuple format Hi-C data into n*n matrix\n",
    "\"\"\"\n",
    "\n",
    "def tuple2matrix(in_dir,out_dir,resolution):\n",
    "    for index in [22, 21,20, 19, 18,17, 16, 15, 14,13,12,11, 10, 9, 6, 5, 4, 3,2,1]:\n",
    "        file_name = 'chr{}_kr_{}.hic'.format(index, resolution)\n",
    "        file = open(os.path.join(in_dir, file_name), 'r')\n",
    "        _list = file.readlines()\n",
    "\n",
    "        min_num = max_num = int(int(_list[0].split()[0]) / resolution)\n",
    "        for i in range(len(_list)):\n",
    "            line = _list[i].split()\n",
    "            x = int(int(line[0]) / resolution)\n",
    "            y = int(int(line[1]) / resolution)\n",
    "            min_num = min(min_num, x, y)\n",
    "            max_num = max(max_num, x, y)\n",
    "\n",
    "        matrix = np.zeros((max_num+1, max_num+1), dtype=np.uint16)\n",
    "\n",
    "        for i in range(len(_list)):\n",
    "            line = _list[i].split()\n",
    "            x = int(int(line[0]) / resolution)\n",
    "            y = int(int(line[1]) / resolution)\n",
    "            z = float(line[2])\n",
    "            z = 0 if math.isnan(z) else min(int(z), 65536)\n",
    "            matrix[x, y] = matrix[y, x] = z\n",
    "\n",
    "        prefix = 'chr{}_{}.npz'.format(index, resolution)\n",
    "        np.savez(os.path.join(out_dir, prefix), matrix)\n"
   ]
  },
  {
   "cell_type": "code",
   "execution_count": null,
   "metadata": {},
   "outputs": [],
   "source": [
    "\n",
    "in_dir=\"/data1/ghy_data/IMR90/1Mb/\"\n",
    "out_dir=\"/data1/ghy_data/IMR90/1Mb/\"\n",
    "resolution=1000000\n",
    "tuple2matrix(in_dir,out_dir,resolution)"
   ]
  }
 ],
 "metadata": {
  "kernelspec": {
   "display_name": "pytorch1.7.1",
   "language": "python",
   "name": "python3"
  },
  "language_info": {
   "codemirror_mode": {
    "name": "ipython",
    "version": 3
   },
   "file_extension": ".py",
   "mimetype": "text/x-python",
   "name": "python",
   "nbconvert_exporter": "python",
   "pygments_lexer": "ipython3",
   "version": "3.6.12"
  }
 },
 "nbformat": 4,
 "nbformat_minor": 2
}
